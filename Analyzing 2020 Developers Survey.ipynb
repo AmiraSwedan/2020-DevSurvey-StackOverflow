{
 "cells": [
  {
   "cell_type": "code",
   "execution_count": 3,
   "metadata": {},
   "outputs": [],
   "source": [
    "import pandas as pd \n",
    "import matplotlib.pyplot as plt \n",
    "import numpy as np"
   ]
  },
  {
   "cell_type": "markdown",
   "metadata": {},
   "source": [
    "### Reading Developers Survey Data"
   ]
  },
  {
   "cell_type": "code",
   "execution_count": 4,
   "metadata": {},
   "outputs": [],
   "source": [
    "df = pd.read_csv('survey_results_public.csv')"
   ]
  },
  {
   "cell_type": "code",
   "execution_count": 8,
   "metadata": {},
   "outputs": [
    {
     "data": {
      "text/html": [
       "<div>\n",
       "<table border=\"1\" class=\"dataframe\">\n",
       "  <thead>\n",
       "    <tr style=\"text-align: right;\">\n",
       "      <th></th>\n",
       "      <th>Respondent</th>\n",
       "      <th>MainBranch</th>\n",
       "      <th>Hobbyist</th>\n",
       "      <th>Age</th>\n",
       "      <th>Age1stCode</th>\n",
       "      <th>CompFreq</th>\n",
       "      <th>CompTotal</th>\n",
       "      <th>ConvertedComp</th>\n",
       "      <th>Country</th>\n",
       "      <th>CurrencyDesc</th>\n",
       "      <th>...</th>\n",
       "      <th>SurveyEase</th>\n",
       "      <th>SurveyLength</th>\n",
       "      <th>Trans</th>\n",
       "      <th>UndergradMajor</th>\n",
       "      <th>WebframeDesireNextYear</th>\n",
       "      <th>WebframeWorkedWith</th>\n",
       "      <th>WelcomeChange</th>\n",
       "      <th>WorkWeekHrs</th>\n",
       "      <th>YearsCode</th>\n",
       "      <th>YearsCodePro</th>\n",
       "    </tr>\n",
       "  </thead>\n",
       "  <tbody>\n",
       "    <tr>\n",
       "      <th>0</th>\n",
       "      <td>1</td>\n",
       "      <td>I am a developer by profession</td>\n",
       "      <td>Yes</td>\n",
       "      <td>NaN</td>\n",
       "      <td>13</td>\n",
       "      <td>Monthly</td>\n",
       "      <td>NaN</td>\n",
       "      <td>NaN</td>\n",
       "      <td>Germany</td>\n",
       "      <td>European Euro</td>\n",
       "      <td>...</td>\n",
       "      <td>Neither easy nor difficult</td>\n",
       "      <td>Appropriate in length</td>\n",
       "      <td>No</td>\n",
       "      <td>Computer science, computer engineering, or sof...</td>\n",
       "      <td>ASP.NET Core</td>\n",
       "      <td>ASP.NET;ASP.NET Core</td>\n",
       "      <td>Just as welcome now as I felt last year</td>\n",
       "      <td>50.0</td>\n",
       "      <td>36</td>\n",
       "      <td>27</td>\n",
       "    </tr>\n",
       "    <tr>\n",
       "      <th>1</th>\n",
       "      <td>2</td>\n",
       "      <td>I am a developer by profession</td>\n",
       "      <td>No</td>\n",
       "      <td>NaN</td>\n",
       "      <td>19</td>\n",
       "      <td>NaN</td>\n",
       "      <td>NaN</td>\n",
       "      <td>NaN</td>\n",
       "      <td>United Kingdom</td>\n",
       "      <td>Pound sterling</td>\n",
       "      <td>...</td>\n",
       "      <td>NaN</td>\n",
       "      <td>NaN</td>\n",
       "      <td>NaN</td>\n",
       "      <td>Computer science, computer engineering, or sof...</td>\n",
       "      <td>NaN</td>\n",
       "      <td>NaN</td>\n",
       "      <td>Somewhat more welcome now than last year</td>\n",
       "      <td>NaN</td>\n",
       "      <td>7</td>\n",
       "      <td>4</td>\n",
       "    </tr>\n",
       "    <tr>\n",
       "      <th>2</th>\n",
       "      <td>3</td>\n",
       "      <td>I code primarily as a hobby</td>\n",
       "      <td>Yes</td>\n",
       "      <td>NaN</td>\n",
       "      <td>15</td>\n",
       "      <td>NaN</td>\n",
       "      <td>NaN</td>\n",
       "      <td>NaN</td>\n",
       "      <td>Russian Federation</td>\n",
       "      <td>NaN</td>\n",
       "      <td>...</td>\n",
       "      <td>Neither easy nor difficult</td>\n",
       "      <td>Appropriate in length</td>\n",
       "      <td>NaN</td>\n",
       "      <td>NaN</td>\n",
       "      <td>NaN</td>\n",
       "      <td>NaN</td>\n",
       "      <td>Somewhat more welcome now than last year</td>\n",
       "      <td>NaN</td>\n",
       "      <td>4</td>\n",
       "      <td>NaN</td>\n",
       "    </tr>\n",
       "    <tr>\n",
       "      <th>3</th>\n",
       "      <td>4</td>\n",
       "      <td>I am a developer by profession</td>\n",
       "      <td>Yes</td>\n",
       "      <td>25.0</td>\n",
       "      <td>18</td>\n",
       "      <td>NaN</td>\n",
       "      <td>NaN</td>\n",
       "      <td>NaN</td>\n",
       "      <td>Albania</td>\n",
       "      <td>Albanian lek</td>\n",
       "      <td>...</td>\n",
       "      <td>NaN</td>\n",
       "      <td>NaN</td>\n",
       "      <td>No</td>\n",
       "      <td>Computer science, computer engineering, or sof...</td>\n",
       "      <td>NaN</td>\n",
       "      <td>NaN</td>\n",
       "      <td>Somewhat less welcome now than last year</td>\n",
       "      <td>40.0</td>\n",
       "      <td>7</td>\n",
       "      <td>4</td>\n",
       "    </tr>\n",
       "    <tr>\n",
       "      <th>4</th>\n",
       "      <td>5</td>\n",
       "      <td>I used to be a developer by profession, but no...</td>\n",
       "      <td>Yes</td>\n",
       "      <td>31.0</td>\n",
       "      <td>16</td>\n",
       "      <td>NaN</td>\n",
       "      <td>NaN</td>\n",
       "      <td>NaN</td>\n",
       "      <td>United States</td>\n",
       "      <td>NaN</td>\n",
       "      <td>...</td>\n",
       "      <td>Easy</td>\n",
       "      <td>Too short</td>\n",
       "      <td>No</td>\n",
       "      <td>Computer science, computer engineering, or sof...</td>\n",
       "      <td>Django;Ruby on Rails</td>\n",
       "      <td>Ruby on Rails</td>\n",
       "      <td>Just as welcome now as I felt last year</td>\n",
       "      <td>NaN</td>\n",
       "      <td>15</td>\n",
       "      <td>8</td>\n",
       "    </tr>\n",
       "  </tbody>\n",
       "</table>\n",
       "<p>5 rows × 61 columns</p>\n",
       "</div>"
      ],
      "text/plain": [
       "   Respondent                                         MainBranch Hobbyist  \\\n",
       "0           1                     I am a developer by profession      Yes   \n",
       "1           2                     I am a developer by profession       No   \n",
       "2           3                        I code primarily as a hobby      Yes   \n",
       "3           4                     I am a developer by profession      Yes   \n",
       "4           5  I used to be a developer by profession, but no...      Yes   \n",
       "\n",
       "    Age Age1stCode CompFreq  CompTotal  ConvertedComp             Country  \\\n",
       "0   NaN         13  Monthly        NaN            NaN             Germany   \n",
       "1   NaN         19      NaN        NaN            NaN      United Kingdom   \n",
       "2   NaN         15      NaN        NaN            NaN  Russian Federation   \n",
       "3  25.0         18      NaN        NaN            NaN             Albania   \n",
       "4  31.0         16      NaN        NaN            NaN       United States   \n",
       "\n",
       "     CurrencyDesc     ...                       SurveyEase  \\\n",
       "0   European Euro     ...       Neither easy nor difficult   \n",
       "1  Pound sterling     ...                              NaN   \n",
       "2             NaN     ...       Neither easy nor difficult   \n",
       "3    Albanian lek     ...                              NaN   \n",
       "4             NaN     ...                             Easy   \n",
       "\n",
       "            SurveyLength Trans  \\\n",
       "0  Appropriate in length    No   \n",
       "1                    NaN   NaN   \n",
       "2  Appropriate in length   NaN   \n",
       "3                    NaN    No   \n",
       "4              Too short    No   \n",
       "\n",
       "                                      UndergradMajor WebframeDesireNextYear  \\\n",
       "0  Computer science, computer engineering, or sof...           ASP.NET Core   \n",
       "1  Computer science, computer engineering, or sof...                    NaN   \n",
       "2                                                NaN                    NaN   \n",
       "3  Computer science, computer engineering, or sof...                    NaN   \n",
       "4  Computer science, computer engineering, or sof...   Django;Ruby on Rails   \n",
       "\n",
       "     WebframeWorkedWith                             WelcomeChange WorkWeekHrs  \\\n",
       "0  ASP.NET;ASP.NET Core   Just as welcome now as I felt last year        50.0   \n",
       "1                   NaN  Somewhat more welcome now than last year         NaN   \n",
       "2                   NaN  Somewhat more welcome now than last year         NaN   \n",
       "3                   NaN  Somewhat less welcome now than last year        40.0   \n",
       "4         Ruby on Rails   Just as welcome now as I felt last year         NaN   \n",
       "\n",
       "  YearsCode YearsCodePro  \n",
       "0        36           27  \n",
       "1         7            4  \n",
       "2         4          NaN  \n",
       "3         7            4  \n",
       "4        15            8  \n",
       "\n",
       "[5 rows x 61 columns]"
      ]
     },
     "execution_count": 8,
     "metadata": {},
     "output_type": "execute_result"
    }
   ],
   "source": [
    "df.head()"
   ]
  },
  {
   "cell_type": "code",
   "execution_count": 9,
   "metadata": {},
   "outputs": [
    {
     "data": {
      "text/html": [
       "<div>\n",
       "<table border=\"1\" class=\"dataframe\">\n",
       "  <thead>\n",
       "    <tr style=\"text-align: right;\">\n",
       "      <th></th>\n",
       "      <th>Respondent</th>\n",
       "      <th>Age</th>\n",
       "      <th>CompTotal</th>\n",
       "      <th>ConvertedComp</th>\n",
       "      <th>WorkWeekHrs</th>\n",
       "    </tr>\n",
       "  </thead>\n",
       "  <tbody>\n",
       "    <tr>\n",
       "      <th>count</th>\n",
       "      <td>64461.000000</td>\n",
       "      <td>45446.000000</td>\n",
       "      <td>3.482600e+04</td>\n",
       "      <td>3.475600e+04</td>\n",
       "      <td>41151.000000</td>\n",
       "    </tr>\n",
       "    <tr>\n",
       "      <th>mean</th>\n",
       "      <td>32554.079738</td>\n",
       "      <td>30.834111</td>\n",
       "      <td>3.190464e+242</td>\n",
       "      <td>1.037561e+05</td>\n",
       "      <td>40.782174</td>\n",
       "    </tr>\n",
       "    <tr>\n",
       "      <th>std</th>\n",
       "      <td>18967.442360</td>\n",
       "      <td>9.585392</td>\n",
       "      <td>inf</td>\n",
       "      <td>2.268853e+05</td>\n",
       "      <td>17.816383</td>\n",
       "    </tr>\n",
       "    <tr>\n",
       "      <th>min</th>\n",
       "      <td>1.000000</td>\n",
       "      <td>1.000000</td>\n",
       "      <td>0.000000e+00</td>\n",
       "      <td>0.000000e+00</td>\n",
       "      <td>1.000000</td>\n",
       "    </tr>\n",
       "    <tr>\n",
       "      <th>25%</th>\n",
       "      <td>16116.000000</td>\n",
       "      <td>24.000000</td>\n",
       "      <td>2.000000e+04</td>\n",
       "      <td>2.464800e+04</td>\n",
       "      <td>40.000000</td>\n",
       "    </tr>\n",
       "    <tr>\n",
       "      <th>50%</th>\n",
       "      <td>32231.000000</td>\n",
       "      <td>29.000000</td>\n",
       "      <td>6.300000e+04</td>\n",
       "      <td>5.404900e+04</td>\n",
       "      <td>40.000000</td>\n",
       "    </tr>\n",
       "    <tr>\n",
       "      <th>75%</th>\n",
       "      <td>49142.000000</td>\n",
       "      <td>35.000000</td>\n",
       "      <td>1.250000e+05</td>\n",
       "      <td>9.500000e+04</td>\n",
       "      <td>44.000000</td>\n",
       "    </tr>\n",
       "    <tr>\n",
       "      <th>max</th>\n",
       "      <td>65639.000000</td>\n",
       "      <td>279.000000</td>\n",
       "      <td>1.111111e+247</td>\n",
       "      <td>2.000000e+06</td>\n",
       "      <td>475.000000</td>\n",
       "    </tr>\n",
       "  </tbody>\n",
       "</table>\n",
       "</div>"
      ],
      "text/plain": [
       "         Respondent           Age      CompTotal  ConvertedComp   WorkWeekHrs\n",
       "count  64461.000000  45446.000000   3.482600e+04   3.475600e+04  41151.000000\n",
       "mean   32554.079738     30.834111  3.190464e+242   1.037561e+05     40.782174\n",
       "std    18967.442360      9.585392            inf   2.268853e+05     17.816383\n",
       "min        1.000000      1.000000   0.000000e+00   0.000000e+00      1.000000\n",
       "25%    16116.000000     24.000000   2.000000e+04   2.464800e+04     40.000000\n",
       "50%    32231.000000     29.000000   6.300000e+04   5.404900e+04     40.000000\n",
       "75%    49142.000000     35.000000   1.250000e+05   9.500000e+04     44.000000\n",
       "max    65639.000000    279.000000  1.111111e+247   2.000000e+06    475.000000"
      ]
     },
     "execution_count": 9,
     "metadata": {},
     "output_type": "execute_result"
    }
   ],
   "source": [
    "df.describe()"
   ]
  },
  {
   "cell_type": "code",
   "execution_count": 10,
   "metadata": {},
   "outputs": [
    {
     "data": {
      "text/plain": [
       "(64461, 61)"
      ]
     },
     "execution_count": 10,
     "metadata": {},
     "output_type": "execute_result"
    }
   ],
   "source": [
    "df.shape"
   ]
  },
  {
   "cell_type": "code",
   "execution_count": 18,
   "metadata": {},
   "outputs": [
    {
     "name": "stdout",
     "output_type": "stream",
     "text": [
      "<class 'pandas.core.frame.DataFrame'>\n",
      "RangeIndex: 64461 entries, 0 to 64460\n",
      "Data columns (total 61 columns):\n",
      "Respondent                      64461 non-null int64\n",
      "MainBranch                      64162 non-null object\n",
      "Hobbyist                        64416 non-null object\n",
      "Age                             45446 non-null float64\n",
      "Age1stCode                      57900 non-null object\n",
      "CompFreq                        40069 non-null object\n",
      "CompTotal                       34826 non-null float64\n",
      "ConvertedComp                   34756 non-null float64\n",
      "Country                         64072 non-null object\n",
      "CurrencyDesc                    45472 non-null object\n",
      "CurrencySymbol                  45472 non-null object\n",
      "DatabaseDesireNextYear          44070 non-null object\n",
      "DatabaseWorkedWith              49537 non-null object\n",
      "DevType                         49370 non-null object\n",
      "EdLevel                         57431 non-null object\n",
      "Employment                      63854 non-null object\n",
      "Ethnicity                       45948 non-null object\n",
      "Gender                          50557 non-null object\n",
      "JobFactors                      49349 non-null object\n",
      "JobSat                          45194 non-null object\n",
      "JobSeek                         51727 non-null object\n",
      "LanguageDesireNextYear          54113 non-null object\n",
      "LanguageWorkedWith              57378 non-null object\n",
      "MiscTechDesireNextYear          42379 non-null object\n",
      "MiscTechWorkedWith              40314 non-null object\n",
      "NEWCollabToolsDesireNextYear    47287 non-null object\n",
      "NEWCollabToolsWorkedWith        52883 non-null object\n",
      "NEWDevOps                       42686 non-null object\n",
      "NEWDevOpsImpt                   41732 non-null object\n",
      "NEWEdImpt                       48465 non-null object\n",
      "NEWJobHunt                      42286 non-null object\n",
      "NEWJobHuntResearch              41022 non-null object\n",
      "NEWLearn                        56156 non-null object\n",
      "NEWOffTopic                     50804 non-null object\n",
      "NEWOnboardGood                  42623 non-null object\n",
      "NEWOtherComms                   57205 non-null object\n",
      "NEWOvertime                     43231 non-null object\n",
      "NEWPurchaseResearch             37321 non-null object\n",
      "NEWPurpleLink                   54803 non-null object\n",
      "NEWSOSites                      58275 non-null object\n",
      "NEWStuck                        54983 non-null object\n",
      "OpSys                           56228 non-null object\n",
      "OrgSize                         44334 non-null object\n",
      "PlatformDesireNextYear          50605 non-null object\n",
      "PlatformWorkedWith              53843 non-null object\n",
      "PurchaseWhat                    39364 non-null object\n",
      "Sexuality                       43992 non-null object\n",
      "SOAccount                       56805 non-null object\n",
      "SOComm                          56476 non-null object\n",
      "SOPartFreq                      46792 non-null object\n",
      "SOVisitFreq                     56970 non-null object\n",
      "SurveyEase                      51802 non-null object\n",
      "SurveyLength                    51701 non-null object\n",
      "Trans                           49345 non-null object\n",
      "UndergradMajor                  50995 non-null object\n",
      "WebframeDesireNextYear          40024 non-null object\n",
      "WebframeWorkedWith              42279 non-null object\n",
      "WelcomeChange                   52683 non-null object\n",
      "WorkWeekHrs                     41151 non-null float64\n",
      "YearsCode                       57684 non-null object\n",
      "YearsCodePro                    46349 non-null object\n",
      "dtypes: float64(4), int64(1), object(56)\n",
      "memory usage: 16.2+ MB\n"
     ]
    }
   ],
   "source": [
    "df.info()"
   ]
  },
  {
   "cell_type": "markdown",
   "metadata": {},
   "source": [
    "### Job Satisfaction "
   ]
  },
  {
   "cell_type": "code",
   "execution_count": 19,
   "metadata": {},
   "outputs": [
    {
     "data": {
      "text/plain": [
       "Very satisfied                        0.323295\n",
       "Slightly satisfied                    0.308227\n",
       "Slightly dissatisfied                 0.157632\n",
       "Neither satisfied nor dissatisfied    0.127959\n",
       "Very dissatisfied                     0.082887\n",
       "Name: JobSat, dtype: float64"
      ]
     },
     "execution_count": 19,
     "metadata": {},
     "output_type": "execute_result"
    }
   ],
   "source": [
    "df.JobSat.value_counts(normalize= True)"
   ]
  },
  {
   "cell_type": "code",
   "execution_count": 35,
   "metadata": {},
   "outputs": [
    {
     "data": {
      "image/png": "[encoded data removed]",
      "text/plain": [
       "<Figure size 432x288 with 1 Axes>"
      ]
     },
     "metadata": {},
     "output_type": "display_data"
    }
   ],
   "source": [
    "df.groupby('JobSat')['ConvertedComp'].mean().plot(kind = 'bar');"
   ]
  },
  {
   "cell_type": "code",
   "execution_count": 37,
   "metadata": {},
   "outputs": [
    {
     "data": {
      "text/plain": [
       "JobSat\n",
       "Neither satisfied nor dissatisfied    40.205566\n",
       "Slightly dissatisfied                 40.699093\n",
       "Slightly satisfied                    40.606345\n",
       "Very dissatisfied                     41.320876\n",
       "Very satisfied                        41.075520\n",
       "Name: WorkWeekHrs, dtype: float64"
      ]
     },
     "execution_count": 37,
     "metadata": {},
     "output_type": "execute_result"
    }
   ],
   "source": [
    "df.groupby('JobSat')['WorkWeekHrs'].mean()"
   ]
  },
  {
   "cell_type": "code",
   "execution_count": null,
   "metadata": {},
   "outputs": [],
   "source": []
  }
 ],
 "metadata": {
  "kernelspec": {
   "display_name": "Python 2",
   "language": "python",
   "name": "python2"
  },
  "language_info": {
   "codemirror_mode": {
    "name": "ipython",
    "version": 2
   },
   "file_extension": ".py",
   "mimetype": "text/x-python",
   "name": "python",
   "nbconvert_exporter": "python",
   "pygments_lexer": "ipython2",
   "version": "2.7.10"
  }
 },
 "nbformat": 4,
 "nbformat_minor": 2
}
